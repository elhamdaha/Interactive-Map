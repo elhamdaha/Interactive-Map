{
 "cells": [
  {
   "cell_type": "code",
   "execution_count": 1,
   "metadata": {},
   "outputs": [],
   "source": [
    "#pip install -U pysal"
   ]
  },
  {
   "cell_type": "code",
   "execution_count": 2,
   "metadata": {},
   "outputs": [],
   "source": [
    "import requests\n",
    "import urllib.request\n",
    "from zipfile import ZipFile\n",
    "import json\n",
    "import io\n",
    "import zipfile\n",
    "import geopandas as gpd\n",
    "from shapely.geometry import shape  \n",
    "import osr\n",
    "import pandas as pd\n",
    "import pysal as ps\n",
    "import numpy as np\n",
    "import requests\n",
    "import geoplot\n",
    "import geoplot.crs as gcrs\n",
    "import matplotlib.pyplot as plt\n",
    "%matplotlib inline"
   ]
  },
  {
   "cell_type": "code",
   "execution_count": 3,
   "metadata": {},
   "outputs": [],
   "source": [
    "# The following does not contain Alaska, Hawaii, and other islands."
   ]
  },
  {
   "cell_type": "markdown",
   "metadata": {},
   "source": [
    "### BG_2019"
   ]
  },
  {
   "cell_type": "code",
   "execution_count": 4,
   "metadata": {},
   "outputs": [
    {
     "ename": "KeyboardInterrupt",
     "evalue": "",
     "output_type": "error",
     "traceback": [
      "\u001b[1;31m---------------------------------------------------------------------------\u001b[0m",
      "\u001b[1;31mKeyboardInterrupt\u001b[0m                         Traceback (most recent call last)",
      "\u001b[1;32m<ipython-input-4-94d8090f998c>\u001b[0m in \u001b[0;36m<module>\u001b[1;34m\u001b[0m\n\u001b[0;32m      4\u001b[0m \u001b[1;32mfor\u001b[0m \u001b[0mi\u001b[0m \u001b[1;32min\u001b[0m \u001b[0mstates\u001b[0m\u001b[1;33m:\u001b[0m\u001b[1;33m\u001b[0m\u001b[1;33m\u001b[0m\u001b[0m\n\u001b[0;32m      5\u001b[0m     \u001b[0murl\u001b[0m\u001b[1;33m=\u001b[0m \u001b[1;34m'https://www2.census.gov/geo/tiger/GENZ2019/shp/cb_2019_{}_bg_500k.zip'\u001b[0m\u001b[1;33m.\u001b[0m\u001b[0mformat\u001b[0m\u001b[1;33m(\u001b[0m\u001b[0mi\u001b[0m\u001b[1;33m)\u001b[0m\u001b[1;33m\u001b[0m\u001b[1;33m\u001b[0m\u001b[0m\n\u001b[1;32m----> 6\u001b[1;33m     \u001b[0mBG_2019\u001b[0m \u001b[1;33m=\u001b[0m \u001b[0mgpd\u001b[0m\u001b[1;33m.\u001b[0m\u001b[0mread_file\u001b[0m\u001b[1;33m(\u001b[0m\u001b[0murl\u001b[0m\u001b[1;33m)\u001b[0m\u001b[1;33m\u001b[0m\u001b[1;33m\u001b[0m\u001b[0m\n\u001b[0m\u001b[0;32m      7\u001b[0m     \u001b[0mBG_2019\u001b[0m\u001b[1;33m.\u001b[0m\u001b[0mcrs\u001b[0m\u001b[1;33m\u001b[0m\u001b[1;33m\u001b[0m\u001b[0m\n\u001b[0;32m      8\u001b[0m     \u001b[0mtemp\u001b[0m\u001b[1;33m=\u001b[0m \u001b[0mgpd\u001b[0m\u001b[1;33m.\u001b[0m\u001b[0mGeoDataFrame\u001b[0m\u001b[1;33m(\u001b[0m\u001b[0mBG_2019\u001b[0m\u001b[1;33m)\u001b[0m\u001b[1;33m\u001b[0m\u001b[1;33m\u001b[0m\u001b[0m\n",
      "\u001b[1;32m~\\Anaconda3\\lib\\site-packages\\geopandas\\io\\file.py\u001b[0m in \u001b[0;36m_read_file\u001b[1;34m(filename, bbox, mask, rows, **kwargs)\u001b[0m\n\u001b[0;32m    202\u001b[0m \u001b[1;33m\u001b[0m\u001b[0m\n\u001b[0;32m    203\u001b[0m             return GeoDataFrame.from_features(\n\u001b[1;32m--> 204\u001b[1;33m                 \u001b[0mf_filt\u001b[0m\u001b[1;33m,\u001b[0m \u001b[0mcrs\u001b[0m\u001b[1;33m=\u001b[0m\u001b[0mcrs\u001b[0m\u001b[1;33m,\u001b[0m \u001b[0mcolumns\u001b[0m\u001b[1;33m=\u001b[0m\u001b[0mcolumns\u001b[0m \u001b[1;33m+\u001b[0m \u001b[1;33m[\u001b[0m\u001b[1;34m\"geometry\"\u001b[0m\u001b[1;33m]\u001b[0m\u001b[1;33m\u001b[0m\u001b[1;33m\u001b[0m\u001b[0m\n\u001b[0m\u001b[0;32m    205\u001b[0m             )\n\u001b[0;32m    206\u001b[0m \u001b[1;33m\u001b[0m\u001b[0m\n",
      "\u001b[1;32m~\\Anaconda3\\lib\\site-packages\\geopandas\\geodataframe.py\u001b[0m in \u001b[0;36mfrom_features\u001b[1;34m(cls, features, crs, columns)\u001b[0m\n\u001b[0;32m    580\u001b[0m                 \u001b[0mfeature\u001b[0m \u001b[1;33m=\u001b[0m \u001b[0mfeature\u001b[0m\u001b[1;33m.\u001b[0m\u001b[0m__geo_interface__\u001b[0m\u001b[1;33m\u001b[0m\u001b[1;33m\u001b[0m\u001b[0m\n\u001b[0;32m    581\u001b[0m             row = {\n\u001b[1;32m--> 582\u001b[1;33m                 \u001b[1;34m\"geometry\"\u001b[0m\u001b[1;33m:\u001b[0m \u001b[0mshape\u001b[0m\u001b[1;33m(\u001b[0m\u001b[0mfeature\u001b[0m\u001b[1;33m[\u001b[0m\u001b[1;34m\"geometry\"\u001b[0m\u001b[1;33m]\u001b[0m\u001b[1;33m)\u001b[0m \u001b[1;32mif\u001b[0m \u001b[0mfeature\u001b[0m\u001b[1;33m[\u001b[0m\u001b[1;34m\"geometry\"\u001b[0m\u001b[1;33m]\u001b[0m \u001b[1;32melse\u001b[0m \u001b[1;32mNone\u001b[0m\u001b[1;33m\u001b[0m\u001b[1;33m\u001b[0m\u001b[0m\n\u001b[0m\u001b[0;32m    583\u001b[0m             }\n\u001b[0;32m    584\u001b[0m             \u001b[1;31m# load properties\u001b[0m\u001b[1;33m\u001b[0m\u001b[1;33m\u001b[0m\u001b[1;33m\u001b[0m\u001b[0m\n",
      "\u001b[1;32m~\\Anaconda3\\lib\\site-packages\\shapely\\geometry\\geo.py\u001b[0m in \u001b[0;36mshape\u001b[1;34m(context)\u001b[0m\n\u001b[0;32m    103\u001b[0m         \u001b[1;32mreturn\u001b[0m \u001b[0mLineString\u001b[0m\u001b[1;33m(\u001b[0m\u001b[0mob\u001b[0m\u001b[1;33m[\u001b[0m\u001b[1;34m\"coordinates\"\u001b[0m\u001b[1;33m]\u001b[0m\u001b[1;33m)\u001b[0m\u001b[1;33m\u001b[0m\u001b[1;33m\u001b[0m\u001b[0m\n\u001b[0;32m    104\u001b[0m     \u001b[1;32melif\u001b[0m \u001b[0mgeom_type\u001b[0m \u001b[1;33m==\u001b[0m \u001b[1;34m\"polygon\"\u001b[0m\u001b[1;33m:\u001b[0m\u001b[1;33m\u001b[0m\u001b[1;33m\u001b[0m\u001b[0m\n\u001b[1;32m--> 105\u001b[1;33m         \u001b[1;32mreturn\u001b[0m \u001b[0mPolygon\u001b[0m\u001b[1;33m(\u001b[0m\u001b[0mob\u001b[0m\u001b[1;33m[\u001b[0m\u001b[1;34m\"coordinates\"\u001b[0m\u001b[1;33m]\u001b[0m\u001b[1;33m[\u001b[0m\u001b[1;36m0\u001b[0m\u001b[1;33m]\u001b[0m\u001b[1;33m,\u001b[0m \u001b[0mob\u001b[0m\u001b[1;33m[\u001b[0m\u001b[1;34m\"coordinates\"\u001b[0m\u001b[1;33m]\u001b[0m\u001b[1;33m[\u001b[0m\u001b[1;36m1\u001b[0m\u001b[1;33m:\u001b[0m\u001b[1;33m]\u001b[0m\u001b[1;33m)\u001b[0m\u001b[1;33m\u001b[0m\u001b[1;33m\u001b[0m\u001b[0m\n\u001b[0m\u001b[0;32m    106\u001b[0m     \u001b[1;32melif\u001b[0m \u001b[0mgeom_type\u001b[0m \u001b[1;33m==\u001b[0m \u001b[1;34m\"multipoint\"\u001b[0m\u001b[1;33m:\u001b[0m\u001b[1;33m\u001b[0m\u001b[1;33m\u001b[0m\u001b[0m\n\u001b[0;32m    107\u001b[0m         \u001b[1;32mreturn\u001b[0m \u001b[0mMultiPoint\u001b[0m\u001b[1;33m(\u001b[0m\u001b[0mob\u001b[0m\u001b[1;33m[\u001b[0m\u001b[1;34m\"coordinates\"\u001b[0m\u001b[1;33m]\u001b[0m\u001b[1;33m)\u001b[0m\u001b[1;33m\u001b[0m\u001b[1;33m\u001b[0m\u001b[0m\n",
      "\u001b[1;32m~\\Anaconda3\\lib\\site-packages\\shapely\\geometry\\polygon.py\u001b[0m in \u001b[0;36m__init__\u001b[1;34m(self, shell, holes)\u001b[0m\n\u001b[0;32m    241\u001b[0m \u001b[1;33m\u001b[0m\u001b[0m\n\u001b[0;32m    242\u001b[0m         \u001b[1;32mif\u001b[0m \u001b[0mshell\u001b[0m \u001b[1;32mis\u001b[0m \u001b[1;32mnot\u001b[0m \u001b[1;32mNone\u001b[0m\u001b[1;33m:\u001b[0m\u001b[1;33m\u001b[0m\u001b[1;33m\u001b[0m\u001b[0m\n\u001b[1;32m--> 243\u001b[1;33m             \u001b[0mret\u001b[0m \u001b[1;33m=\u001b[0m \u001b[0mgeos_polygon_from_py\u001b[0m\u001b[1;33m(\u001b[0m\u001b[0mshell\u001b[0m\u001b[1;33m,\u001b[0m \u001b[0mholes\u001b[0m\u001b[1;33m)\u001b[0m\u001b[1;33m\u001b[0m\u001b[1;33m\u001b[0m\u001b[0m\n\u001b[0m\u001b[0;32m    244\u001b[0m             \u001b[1;32mif\u001b[0m \u001b[0mret\u001b[0m \u001b[1;32mis\u001b[0m \u001b[1;32mnot\u001b[0m \u001b[1;32mNone\u001b[0m\u001b[1;33m:\u001b[0m\u001b[1;33m\u001b[0m\u001b[1;33m\u001b[0m\u001b[0m\n\u001b[0;32m    245\u001b[0m                 \u001b[0mself\u001b[0m\u001b[1;33m.\u001b[0m\u001b[0m_geom\u001b[0m\u001b[1;33m,\u001b[0m \u001b[0mself\u001b[0m\u001b[1;33m.\u001b[0m\u001b[0m_ndim\u001b[0m \u001b[1;33m=\u001b[0m \u001b[0mret\u001b[0m\u001b[1;33m\u001b[0m\u001b[1;33m\u001b[0m\u001b[0m\n",
      "\u001b[1;32m~\\Anaconda3\\lib\\site-packages\\shapely\\geometry\\polygon.py\u001b[0m in \u001b[0;36mgeos_polygon_from_py\u001b[1;34m(shell, holes)\u001b[0m\n\u001b[0;32m    538\u001b[0m         return (\n\u001b[0;32m    539\u001b[0m             lgeos.GEOSGeom_createPolygon(\n\u001b[1;32m--> 540\u001b[1;33m                 c_void_p(geos_shell), geos_holes, L), ndim)\n\u001b[0m",
      "\u001b[1;31mKeyboardInterrupt\u001b[0m: "
     ]
    }
   ],
   "source": [
    "states= ['01','04','05','06','08','09','10','11','12','13','16']\n",
    "col_names= [\"AFFGEOID\", \"GEOID\", \"ALAND\", \"geometry\"]\n",
    "Geo_19= gpd.GeoDataFrame()\n",
    "for i in states:\n",
    "    url= 'https://www2.census.gov/geo/tiger/GENZ2019/shp/cb_2019_{}_bg_500k.zip'.format(i)\n",
    "    BG_2019 = gpd.read_file(url)\n",
    "    BG_2019.crs\n",
    "    temp= gpd.GeoDataFrame(BG_2019)\n",
    "    frame = [Geo_19, temp]\n",
    "    Geo_19 = Geo_19.append(frame)"
   ]
  },
  {
   "cell_type": "code",
   "execution_count": null,
   "metadata": {
    "scrolled": true
   },
   "outputs": [],
   "source": [
    "Geo_19.crs"
   ]
  },
  {
   "cell_type": "code",
   "execution_count": null,
   "metadata": {},
   "outputs": [],
   "source": [
    "Geo_19.info()"
   ]
  },
  {
   "cell_type": "code",
   "execution_count": null,
   "metadata": {},
   "outputs": [],
   "source": [
    "duplicate = Geo_19[Geo_19.duplicated(['GEOID'])]\n",
    "duplicate"
   ]
  },
  {
   "cell_type": "code",
   "execution_count": null,
   "metadata": {},
   "outputs": [],
   "source": [
    "Geo_19_clean= Geo_19.drop_duplicates(subset=['GEOID'])"
   ]
  },
  {
   "cell_type": "code",
   "execution_count": null,
   "metadata": {},
   "outputs": [],
   "source": [
    "Geo_19_clean.info()"
   ]
  },
  {
   "cell_type": "code",
   "execution_count": null,
   "metadata": {
    "scrolled": true
   },
   "outputs": [],
   "source": [
    "#Geo_df_19= Merged_df_19.rename({'geometry': 'geometry19'}, axis=1)\n",
    "#Geo_df_19.info()"
   ]
  },
  {
   "cell_type": "code",
   "execution_count": null,
   "metadata": {},
   "outputs": [],
   "source": [
    "#API Census\n",
    "states= ['01','04']\n",
    "col_names= [\"Name\",\"Pop_19\", \"state\", \"county\", \"tract\", \"block group\"]\n",
    "df_API_19 = pd.DataFrame(columns=col_names)\n",
    "for i in states:\n",
    "    pop_url_str= 'https://api.census.gov/data/2019/acs/acs5?get=NAME,B01001_001E&for=block%20group:*&in=state:{}&in=county:*&in=tract:*'.format(i)\n",
    "    r= requests.get(pop_url_str)\n",
    "    temp= pd.DataFrame (columns=col_names, data=r.json()[1:])\n",
    "    temp[\"Pop_19\"]= temp[\"Pop_19\"].astype(int)\n",
    "    frame = [df_API_19, temp]\n",
    "    df_API_19 = pd.concat(frame)"
   ]
  },
  {
   "cell_type": "code",
   "execution_count": null,
   "metadata": {
    "scrolled": false
   },
   "outputs": [],
   "source": [
    "df_API_19.info()"
   ]
  },
  {
   "cell_type": "code",
   "execution_count": null,
   "metadata": {},
   "outputs": [],
   "source": [
    "df_API_19[\"Pop_19\"]= df_API_19[\"Pop_19\"].astype(int)"
   ]
  },
  {
   "cell_type": "code",
   "execution_count": null,
   "metadata": {
    "scrolled": true
   },
   "outputs": [],
   "source": [
    "df_API_19['GeoID19']= df_API_19['state']+ df_API_19['county']+ df_API_19['tract']+ df_API_19['block group']\n",
    "df_API_19"
   ]
  },
  {
   "cell_type": "code",
   "execution_count": null,
   "metadata": {},
   "outputs": [],
   "source": [
    "Join19= df_API_19.set_index('GeoID19').join(Geo_19_clean.set_index('GEOID'))"
   ]
  },
  {
   "cell_type": "code",
   "execution_count": null,
   "metadata": {
    "scrolled": true
   },
   "outputs": [],
   "source": [
    "Join19.info()"
   ]
  },
  {
   "cell_type": "code",
   "execution_count": null,
   "metadata": {},
   "outputs": [],
   "source": [
    "sq_meter_per_square_mile = 2589988.1103\n",
    "Join19['density19']=Join19['Pop_19']/(Join19['ALAND']/sq_meter_per_square_mile)"
   ]
  },
  {
   "cell_type": "code",
   "execution_count": null,
   "metadata": {},
   "outputs": [],
   "source": [
    "Join19.info()"
   ]
  },
  {
   "cell_type": "code",
   "execution_count": null,
   "metadata": {
    "scrolled": false
   },
   "outputs": [],
   "source": [
    "Join19"
   ]
  },
  {
   "cell_type": "code",
   "execution_count": null,
   "metadata": {
    "scrolled": false
   },
   "outputs": [],
   "source": [
    "Join19.iloc[:, 0:].sort_values(by=['density19'], ascending=False).head(120)"
   ]
  },
  {
   "cell_type": "markdown",
   "metadata": {},
   "source": [
    "### BG-2018"
   ]
  },
  {
   "cell_type": "code",
   "execution_count": null,
   "metadata": {},
   "outputs": [],
   "source": [
    "states= ['01','04','05','06','08','09','10','11','12','13','16','17','18','19','20','21','22','23','24','25','26','27','28','29','30','31','32','33','34','35','36','37','38','39','40','41','42','44','45','46','47','48','49','50','51','53','54','55','56']\n",
    "col_names= [\"AFFGEOID\", \"GEOID\", \"ALAND\"]\n",
    "Merged_df_18 = pd.DataFrame(columns=col_names)\n",
    "for i in states:\n",
    "    url= 'https://www2.census.gov/geo/tiger/GENZ2018/shp/cb_2018_{}_bg_500k.zip'.format(i)\n",
    "    BG_2018 = gpd.read_file(url)\n",
    "    temp= pd.DataFrame (columns=col_names, data=BG_2018)\n",
    "    temp[\"ALAND\"]= temp[\"ALAND\"].astype(int)\n",
    "    frame = [Merged_df_18, temp]\n",
    "    Merged_df_18 = pd.concat(frame)"
   ]
  },
  {
   "cell_type": "code",
   "execution_count": null,
   "metadata": {},
   "outputs": [],
   "source": [
    "Merged_df_18[\"ALAND\"]= Merged_df_18[\"ALAND\"].astype(int)"
   ]
  },
  {
   "cell_type": "code",
   "execution_count": null,
   "metadata": {},
   "outputs": [],
   "source": [
    "#Geo_df_18= Merged_df_18.rename({'geometry': 'geometry18'}, axis=1)\n",
    "Merged_df_18"
   ]
  },
  {
   "cell_type": "code",
   "execution_count": null,
   "metadata": {},
   "outputs": [],
   "source": [
    "#API Census\n",
    "states= ['01','04','05','06','08','09','10','11','12','13','16','17','18','19','20','21','22','23','24','25','26','27','28','29','30','31','32','33','34','35','36','37','38','39','40','41','42','44','45','46','47','48','49','50','51','53','54','55','56']\n",
    "col_names= [\"Name\",\"Pop_18\", \"state\", \"county\", \"tract\", \"block group\"]\n",
    "df_API_18 = pd.DataFrame(columns=col_names)\n",
    "for i in states:\n",
    "    pop_url_str= 'https://api.census.gov/data/2018/acs/acs5?get=NAME,B01001_001E&for=block%20group:*&in=state:{}&in=county:*&in=tract:*'.format(i)\n",
    "    r= requests.get(pop_url_str)\n",
    "    temp= pd.DataFrame (columns=col_names, data=r.json()[1:])\n",
    "    temp[\"Pop_18\"]= temp[\"Pop_18\"].astype(int)\n",
    "    frame = [df_API_18, temp]\n",
    "    df_API_18 = pd.concat(frame)"
   ]
  },
  {
   "cell_type": "code",
   "execution_count": null,
   "metadata": {},
   "outputs": [],
   "source": [
    "df_API_18[\"Pop_18\"]= df_API_18[\"Pop_18\"].astype(int)"
   ]
  },
  {
   "cell_type": "code",
   "execution_count": null,
   "metadata": {},
   "outputs": [],
   "source": [
    "df_API_18['GeoID18']= df_API_18['state']+ df_API_18['county']+ df_API_18['tract']+ df_API_18['block group']"
   ]
  },
  {
   "cell_type": "code",
   "execution_count": null,
   "metadata": {},
   "outputs": [],
   "source": [
    "df_18= df_API_18.drop(['state', 'county','tract','block group'], axis = 1)\n",
    "df_18"
   ]
  },
  {
   "cell_type": "code",
   "execution_count": null,
   "metadata": {},
   "outputs": [],
   "source": [
    "Join18= df_API_18.set_index('GeoID18').join(Merged_df_18.set_index('GEOID'))"
   ]
  },
  {
   "cell_type": "code",
   "execution_count": null,
   "metadata": {},
   "outputs": [],
   "source": [
    "sq_meter_per_square_mile = 2589988.1103\n",
    "Join18['density18']=Join18['Pop_18']/(Join18['ALAND']/sq_meter_per_square_mile)"
   ]
  },
  {
   "cell_type": "code",
   "execution_count": null,
   "metadata": {},
   "outputs": [],
   "source": [
    "Join18"
   ]
  },
  {
   "cell_type": "markdown",
   "metadata": {},
   "source": [
    "### BG-2017"
   ]
  },
  {
   "cell_type": "code",
   "execution_count": null,
   "metadata": {},
   "outputs": [],
   "source": [
    "states= ['01','04','05','06','08','09','10','11','12','13','16','17','18','19','20','21','22','23','24','25','26','27','28','29','30','31','32','33','34','35','36','37','38','39','40','41','42','44','45','46','47','48','49','50','51','53','54','55','56']\n",
    "col_names= [\"AFFGEOID\", \"GEOID\", \"ALAND\", \"geometry\"]\n",
    "Merged_df_17 = pd.DataFrame(columns=col_names)\n",
    "for i in states:\n",
    "    url= 'https://www2.census.gov/geo/tiger/GENZ2017/shp/cb_2017_{}_bg_500k.zip'.format(i)\n",
    "    BG_2017 = gpd.read_file(url)\n",
    "    temp= pd.DataFrame (columns=col_names, data=BG_2017)\n",
    "    temp[\"ALAND\"]= temp[\"ALAND\"].astype(int)\n",
    "    frame = [Merged_df_17, temp]\n",
    "    Merged_df_17 = pd.concat(frame)"
   ]
  },
  {
   "cell_type": "code",
   "execution_count": null,
   "metadata": {},
   "outputs": [],
   "source": [
    "Merged_df_17[\"ALAND\"]= Merged_df_17[\"ALAND\"].astype(int)"
   ]
  },
  {
   "cell_type": "code",
   "execution_count": null,
   "metadata": {},
   "outputs": [],
   "source": [
    "#Geo_df_17= Merged_df_17.rename({'geometry': 'geometry17'}, axis=1)"
   ]
  },
  {
   "cell_type": "code",
   "execution_count": null,
   "metadata": {},
   "outputs": [],
   "source": [
    "#API Census\n",
    "states= ['01','04','05','06','08','09','10','11','12','13','16','17','18','19','20','21','22','23','24','25','26','27','28','29','30','31','32','33','34','35','36','37','38','39','40','41','42','44','45','46','47','48','49','50','51','53','54','55','56']\n",
    "col_names= [\"Name\",\"Pop_17\", \"state\", \"county\", \"tract\", \"block group\"]\n",
    "df_API_17 = pd.DataFrame(columns=col_names)\n",
    "for i in states:\n",
    "    pop_url_str= 'https://api.census.gov/data/2017/acs/acs5?get=NAME,B01001_001E&for=block%20group:*&in=state:{}&in=county:*&in=tract:*'.format(i)\n",
    "    r= requests.get(pop_url_str)\n",
    "    temp= pd.DataFrame (columns=col_names, data=r.json()[1:])\n",
    "    temp[\"Pop_17\"]= temp[\"Pop_17\"].astype(int)\n",
    "    frame = [df_API_17, temp]\n",
    "    df_API_17 = pd.concat(frame)"
   ]
  },
  {
   "cell_type": "code",
   "execution_count": null,
   "metadata": {},
   "outputs": [],
   "source": [
    "df_API_17[\"Pop_17\"]= df_API_17[\"Pop_17\"].astype(int)"
   ]
  },
  {
   "cell_type": "code",
   "execution_count": null,
   "metadata": {},
   "outputs": [],
   "source": [
    "df_API_17['GeoID17']= df_API_17['state']+ df_API_17['county']+ df_API_17['tract']+ df_API_17['block group']"
   ]
  },
  {
   "cell_type": "code",
   "execution_count": null,
   "metadata": {},
   "outputs": [],
   "source": [
    "df_17= df_API_17.drop(['state', 'county','tract','block group'], axis = 1)"
   ]
  },
  {
   "cell_type": "code",
   "execution_count": null,
   "metadata": {},
   "outputs": [],
   "source": [
    "Join17= df_17.set_index('GeoID17').join(Merged_df_17.set_index('GEOID'))"
   ]
  },
  {
   "cell_type": "code",
   "execution_count": null,
   "metadata": {},
   "outputs": [],
   "source": [
    "sq_meter_per_square_mile = 2589988.1103\n",
    "Join17['density17']=Join17['Pop_17']/(Join17['ALAND']/sq_meter_per_square_mile)\n",
    "Join17"
   ]
  },
  {
   "cell_type": "markdown",
   "metadata": {},
   "source": [
    "### BG-2016"
   ]
  },
  {
   "cell_type": "code",
   "execution_count": null,
   "metadata": {},
   "outputs": [],
   "source": [
    "states= ['01','04','05','06','08','09','10','11','12','13','16','17','18','19','20','21','22','23','24','25','26','27','28','29','30','31','32','33','34','35','36','37','38','39','40','41','42','44','45','46','47','48','49','50','51','53','54','55','56']\n",
    "col_names= [\"AFFGEOID\", \"GEOID\", \"ALAND\", \"geometry\"]\n",
    "Merged_df_16 = pd.DataFrame(columns=col_names)\n",
    "for i in states:\n",
    "    url= 'https://www2.census.gov/geo/tiger/GENZ2016/shp/cb_2016_{}_bg_500k.zip'.format(i)\n",
    "    BG_2016 = gpd.read_file(url)\n",
    "    temp= pd.DataFrame (columns=col_names, data=BG_2016)\n",
    "    temp[\"ALAND\"]= temp[\"ALAND\"].astype(int)\n",
    "    frame = [Merged_df_16, temp]\n",
    "    Merged_df_16 = pd.concat(frame)"
   ]
  },
  {
   "cell_type": "code",
   "execution_count": null,
   "metadata": {},
   "outputs": [],
   "source": [
    "Merged_df_16[\"ALAND\"]= Merged_df_16[\"ALAND\"].astype(int)"
   ]
  },
  {
   "cell_type": "code",
   "execution_count": null,
   "metadata": {},
   "outputs": [],
   "source": [
    "#Geo_df_16= Merged_df_16.rename({'geometry': 'geometry16'}, axis=1)"
   ]
  },
  {
   "cell_type": "code",
   "execution_count": null,
   "metadata": {},
   "outputs": [],
   "source": [
    "#API Census\n",
    "states= ['01','04','05','06','08','09','10','11','12','13','16','17','18','19','20','21','22','23','24','25','26','27','28','29','30','31','32','33','34','35','36','37','38','39','40','41','42','44','45','46','47','48','49','50','51','53','54','55','56']\n",
    "col_names= [\"Name\",\"Pop_16\", \"state\", \"county\", \"tract\", \"block group\"]\n",
    "df_API_16 = pd.DataFrame(columns=col_names)\n",
    "for i in states:\n",
    "    pop_url_str= 'https://api.census.gov/data/2016/acs/acs5?get=NAME,B01001_001E&for=block%20group:*&in=state:{}&in=county:*&in=tract:*'.format(i)\n",
    "    r= requests.get(pop_url_str)\n",
    "    temp= pd.DataFrame (columns=col_names, data=r.json()[1:])\n",
    "    temp[\"Pop_16\"]= temp[\"Pop_16\"].astype(int)\n",
    "    frame = [df_API_16, temp]\n",
    "    df_API_16 = pd.concat(frame)"
   ]
  },
  {
   "cell_type": "code",
   "execution_count": null,
   "metadata": {},
   "outputs": [],
   "source": [
    "df_API_16[\"Pop_16\"]= df_API_16[\"Pop_16\"].astype(int)"
   ]
  },
  {
   "cell_type": "code",
   "execution_count": null,
   "metadata": {},
   "outputs": [],
   "source": [
    "df_API_16['GeoID16']= df_API_16['state']+ df_API_16['county']+ df_API_16['tract']+ df_API_16['block group']"
   ]
  },
  {
   "cell_type": "code",
   "execution_count": null,
   "metadata": {},
   "outputs": [],
   "source": [
    "df_16= df_API_16.drop(['state', 'county','tract','block group'], axis = 1)"
   ]
  },
  {
   "cell_type": "code",
   "execution_count": null,
   "metadata": {},
   "outputs": [],
   "source": [
    "Join16= df_16.set_index('GeoID16').join(Merged_df_16.set_index('GEOID'))"
   ]
  },
  {
   "cell_type": "code",
   "execution_count": null,
   "metadata": {},
   "outputs": [],
   "source": [
    "sq_meter_per_square_mile = 2589988.1103\n",
    "Join16['density16']=Join16['Pop_16']/(Join16['ALAND']/sq_meter_per_square_mile)"
   ]
  },
  {
   "cell_type": "code",
   "execution_count": null,
   "metadata": {},
   "outputs": [],
   "source": [
    "Join16"
   ]
  },
  {
   "cell_type": "markdown",
   "metadata": {},
   "source": [
    "### BG-2015"
   ]
  },
  {
   "cell_type": "code",
   "execution_count": null,
   "metadata": {},
   "outputs": [],
   "source": [
    "states= ['01','04','05','06','08','09','10','11','12','13','16','17','18','19','20','21','22','23','24','25','26','27','28','29','30','31','32','33','34','35','36','37','38','39','40','41','42','44','45','46','47','48','49','50','51','53','54','55','56']\n",
    "col_names= [\"AFFGEOID\", \"GEOID\", \"ALAND\"]\n",
    "Merged_df_15 = pd.DataFrame(columns=col_names)\n",
    "for i in states:\n",
    "    url= 'https://www2.census.gov/geo/tiger/GENZ2015/shp/cb_2015_{}_bg_500k.zip'.format(i)\n",
    "    BG_2015 = gpd.read_file(url)\n",
    "    temp= pd.DataFrame (columns=col_names, data=BG_2015)\n",
    "    temp[\"ALAND\"]= temp[\"ALAND\"].astype(int)\n",
    "    frame = [Merged_df_15, temp]\n",
    "    Merged_df_15 = pd.concat(frame)"
   ]
  },
  {
   "cell_type": "code",
   "execution_count": null,
   "metadata": {},
   "outputs": [],
   "source": [
    "Merged_df_15[\"ALAND\"]= Merged_df_15[\"ALAND\"].astype(int)"
   ]
  },
  {
   "cell_type": "code",
   "execution_count": null,
   "metadata": {},
   "outputs": [],
   "source": [
    "#Geo_df_15= Merged_df_15.rename({'geometry': 'geometry15'}, axis=1)"
   ]
  },
  {
   "cell_type": "code",
   "execution_count": null,
   "metadata": {},
   "outputs": [],
   "source": [
    "#API Census\n",
    "states= ['01','04','05','06','08','09','10','11','12','13','16','17','18','19','20','21','22','23','24','25','26','27','28','29','30','31','32','33','34','35','36','37','38','39','40','41','42','44','45','46','47','48','49','50','51','53','54','55','56']\n",
    "col_names= [\"Name\",\"Pop_15\", \"state\", \"county\", \"tract\", \"block group\"]\n",
    "df_API_15 = pd.DataFrame(columns=col_names)\n",
    "for i in states:\n",
    "    pop_url_str= 'https://api.census.gov/data/2015/acs/acs5?get=NAME,B01001_001E&for=block%20group:*&in=state:{}&in=county:*&in=tract:*'.format(i)\n",
    "    r= requests.get(pop_url_str)\n",
    "    temp= pd.DataFrame (columns=col_names, data=r.json()[1:])\n",
    "    temp[\"Pop_15\"]= temp[\"Pop_15\"].astype(int)\n",
    "    frame = [df_API_15, temp]\n",
    "    df_API_15 = pd.concat(frame)"
   ]
  },
  {
   "cell_type": "code",
   "execution_count": null,
   "metadata": {},
   "outputs": [],
   "source": [
    "df_API_15[\"Pop_15\"]= df_API_15[\"Pop_15\"].astype(int)"
   ]
  },
  {
   "cell_type": "code",
   "execution_count": null,
   "metadata": {},
   "outputs": [],
   "source": [
    "df_API_15['GeoID15']= df_API_15['state']+ df_API_15['county']+ df_API_15['tract']+ df_API_15['block group']"
   ]
  },
  {
   "cell_type": "code",
   "execution_count": null,
   "metadata": {},
   "outputs": [],
   "source": [
    "df_15= df_API_15.drop(['state', 'county','tract','block group'], axis = 1)"
   ]
  },
  {
   "cell_type": "code",
   "execution_count": null,
   "metadata": {},
   "outputs": [],
   "source": [
    "Join15= df_15.set_index('GeoID15').join(Merged_df_15.set_index('GEOID'))"
   ]
  },
  {
   "cell_type": "code",
   "execution_count": null,
   "metadata": {},
   "outputs": [],
   "source": [
    "sq_meter_per_square_mile = 2589988.1103\n",
    "Join15['density15']=Join15['Pop_15']/(Join15['ALAND']/sq_meter_per_square_mile)"
   ]
  },
  {
   "cell_type": "code",
   "execution_count": null,
   "metadata": {},
   "outputs": [],
   "source": [
    "Join15"
   ]
  },
  {
   "cell_type": "markdown",
   "metadata": {},
   "source": [
    "### BG-2014"
   ]
  },
  {
   "cell_type": "code",
   "execution_count": null,
   "metadata": {},
   "outputs": [],
   "source": [
    "states= ['01','04','05','06','08','09','10','11','12','13','16','17','18','19','20','21','22','23','24','25','26','27','28','29','30','31','32','33','34','35','36','37','38','39','40','41','42','44','45','46','47','48','49','50','51','53','54','55','56']\n",
    "col_names= [\"AFFGEOID\", \"GEOID\", \"ALAND\"]\n",
    "Merged_df_14 = pd.DataFrame(columns=col_names)\n",
    "for i in states:\n",
    "    url= 'https://www2.census.gov/geo/tiger/GENZ2014/shp/cb_2014_{}_bg_500k.zip'.format(i)\n",
    "    BG_2014 = gpd.read_file(url)\n",
    "    temp= pd.DataFrame (columns=col_names, data=BG_2014)\n",
    "    temp[\"ALAND\"]= temp[\"ALAND\"].astype(int)\n",
    "    frame = [Merged_df_14, temp]\n",
    "    Merged_df_14 = pd.concat(frame)"
   ]
  },
  {
   "cell_type": "code",
   "execution_count": null,
   "metadata": {},
   "outputs": [],
   "source": [
    "Merged_df_14[\"ALAND\"]= Merged_df_14[\"ALAND\"].astype(int)"
   ]
  },
  {
   "cell_type": "code",
   "execution_count": null,
   "metadata": {},
   "outputs": [],
   "source": [
    "#Geo_df_14= Merged_df_14.rename({'geometry': 'geometry14'}, axis=1)"
   ]
  },
  {
   "cell_type": "code",
   "execution_count": null,
   "metadata": {},
   "outputs": [],
   "source": [
    "#API Census\n",
    "states= ['01','04','05','06','08','09','10','11','12','13','16','17','18','19','20','21','22','23','24','25','26','27','28','29','30','31','32','33','34','35','36','37','38','39','40','41','42','44','45','46','47','48','49','50','51','53','54','55','56']\n",
    "col_names= [\"Name\",\"Pop_14\", \"state\", \"county\", \"tract\", \"block group\"]\n",
    "df_API_14 = pd.DataFrame(columns=col_names)\n",
    "for i in states:\n",
    "    pop_url_str= 'https://api.census.gov/data/2014/acs/acs5?get=NAME,B01001_001E&for=block%20group:*&in=state:{}&in=county:*&in=tract:*'.format(i)\n",
    "    r= requests.get(pop_url_str)\n",
    "    temp= pd.DataFrame (columns=col_names, data=r.json()[1:])\n",
    "    temp[\"Pop_14\"]= temp[\"Pop_14\"].astype(int)\n",
    "    frame = [df_API_14, temp]\n",
    "    df_API_14 = pd.concat(frame)"
   ]
  },
  {
   "cell_type": "code",
   "execution_count": null,
   "metadata": {},
   "outputs": [],
   "source": [
    "df_API_14[\"Pop_14\"]= df_API_14[\"Pop_14\"].astype(int)"
   ]
  },
  {
   "cell_type": "code",
   "execution_count": null,
   "metadata": {},
   "outputs": [],
   "source": [
    "df_API_14['GeoID14']= df_API_14['state']+ df_API_14['county']+ df_API_14['tract']+ df_API_14['block group']"
   ]
  },
  {
   "cell_type": "code",
   "execution_count": null,
   "metadata": {},
   "outputs": [],
   "source": [
    "df_14= df_API_14.drop(['state', 'county','tract','block group'], axis = 1)"
   ]
  },
  {
   "cell_type": "code",
   "execution_count": null,
   "metadata": {},
   "outputs": [],
   "source": [
    "Join14= df_14.set_index('GeoID14').join(Merged_df_14.set_index('GEOID'))"
   ]
  },
  {
   "cell_type": "code",
   "execution_count": null,
   "metadata": {},
   "outputs": [],
   "source": [
    "sq_meter_per_square_mile = 2589988.1103\n",
    "Join14['density14']=Join14['Pop_14']/(Join14['ALAND']/sq_meter_per_square_mile)"
   ]
  },
  {
   "cell_type": "code",
   "execution_count": null,
   "metadata": {},
   "outputs": [],
   "source": [
    "Join14"
   ]
  },
  {
   "cell_type": "markdown",
   "metadata": {},
   "source": [
    "### BG-2013"
   ]
  },
  {
   "cell_type": "code",
   "execution_count": null,
   "metadata": {},
   "outputs": [],
   "source": [
    "states= ['01','04','05','06','08','09','10','11','12','13','16','17','18','19','20','21','22','23','24','25','26','27','28','29','30','31','32','33','34','35','36','37','38','39','40','41','42','44','45','46','47','48','49','50','51','53','54','55','56']\n",
    "col_names= [\"AFFGEOID\", \"GEOID\", \"ALAND\"]\n",
    "Merged_df_13 = pd.DataFrame(columns=col_names)\n",
    "for i in states:\n",
    "    url= 'https://www2.census.gov/geo/tiger/GENZ2013/cb_2013_{}_bg_500k.zip'.format(i)\n",
    "    BG_2013 = gpd.read_file(url)\n",
    "    temp= pd.DataFrame (columns=col_names, data=BG_2013)\n",
    "    temp[\"ALAND\"]= temp[\"ALAND\"].astype(int)\n",
    "    frame = [Merged_df_13, temp]\n",
    "    Merged_df_13 = pd.concat(frame)"
   ]
  },
  {
   "cell_type": "code",
   "execution_count": null,
   "metadata": {},
   "outputs": [],
   "source": [
    "Merged_df_13[\"ALAND\"]= Merged_df_13[\"ALAND\"].astype(int)"
   ]
  },
  {
   "cell_type": "code",
   "execution_count": null,
   "metadata": {},
   "outputs": [],
   "source": [
    "#Geo_df_13= Merged_df_13.rename({'geometry': 'geometry13'}, axis=1)"
   ]
  },
  {
   "cell_type": "code",
   "execution_count": null,
   "metadata": {},
   "outputs": [],
   "source": [
    "#API Census\n",
    "states= ['01','04','05','06','08','09','10','11','12','13','16','17','18','19','20','21','22','23','24','25','26','27','28','29','30','31','32','33','34','35','36','37','38','39','40','41','42','44','45','46','47','48','49','50','51','53','54','55','56']\n",
    "col_names= [\"Name\",\"Pop_13\", \"state\", \"county\", \"tract\", \"block group\"]\n",
    "df_API_13 = pd.DataFrame(columns=col_names)\n",
    "for i in states:\n",
    "    pop_url_str= 'https://api.census.gov/data/2013/acs/acs5?get=NAME,B01001_001E&for=block%20group:*&in=state:{}&in=county:*&in=tract:*'.format(i)\n",
    "    r= requests.get(pop_url_str)\n",
    "    temp= pd.DataFrame (columns=col_names, data=r.json()[1:])\n",
    "    temp[\"Pop_13\"]= temp[\"Pop_13\"].astype(int)\n",
    "    frame = [df_API_13, temp]\n",
    "    df_API_13 = pd.concat(frame)"
   ]
  },
  {
   "cell_type": "code",
   "execution_count": null,
   "metadata": {},
   "outputs": [],
   "source": [
    "df_API_13[\"Pop_13\"]= df_API_13[\"Pop_13\"].astype(int)"
   ]
  },
  {
   "cell_type": "code",
   "execution_count": null,
   "metadata": {},
   "outputs": [],
   "source": [
    "df_API_13['GeoID13']= df_API_13['state']+ df_API_13['county']+ df_API_13['tract']+ df_API_13['block group']"
   ]
  },
  {
   "cell_type": "code",
   "execution_count": null,
   "metadata": {},
   "outputs": [],
   "source": [
    "df_13= df_API_13.drop(['state', 'county','tract','block group'], axis = 1)"
   ]
  },
  {
   "cell_type": "code",
   "execution_count": null,
   "metadata": {},
   "outputs": [],
   "source": [
    "Join13= df_13.set_index('GeoID13').join(Merged_df_13.set_index('GEOID'))"
   ]
  },
  {
   "cell_type": "code",
   "execution_count": null,
   "metadata": {
    "scrolled": false
   },
   "outputs": [],
   "source": [
    "sq_meter_per_square_mile = 2589988.1103\n",
    "Join13['density13']=Join13['Pop_13']/(Join13['ALAND']/sq_meter_per_square_mile)\n",
    "Join13"
   ]
  },
  {
   "cell_type": "markdown",
   "metadata": {},
   "source": [
    "### BG-2012"
   ]
  },
  {
   "cell_type": "code",
   "execution_count": null,
   "metadata": {},
   "outputs": [],
   "source": [
    "states= ['01','04','05','06','08','09','10','11','12','13','16','17','18','19','20','21','22','23','24','25','26','27','28','29','30','31','32','33','34','35','36','37','38','39','40','41','42','44','45','46','47','48','49','50','51','53','54','55','56']\n",
    "col_names= [\"AFFGEOID\", \"GEOID\", \"ALAND\", \"geometry\"]\n",
    "Merged_df_12 = pd.DataFrame(columns=col_names)\n",
    "for i in states:\n",
    "    url= 'https://www2.census.gov/geo/tiger/TIGER2012/BG/tl_2012_{}_bg.zip'.format(i)\n",
    "    BG_2012 = gpd.read_file(url)\n",
    "    temp= pd.DataFrame (columns=col_names, data=BG_2012)\n",
    "    temp[\"ALAND\"]= temp[\"ALAND\"].astype(int)\n",
    "    frame = [Merged_df_12, temp]\n",
    "    Merged_df_12 = pd.concat(frame)"
   ]
  },
  {
   "cell_type": "code",
   "execution_count": null,
   "metadata": {},
   "outputs": [],
   "source": [
    "Merged_df_12[\"ALAND\"]= Merged_df_12[\"ALAND\"].astype(int)"
   ]
  },
  {
   "cell_type": "code",
   "execution_count": null,
   "metadata": {},
   "outputs": [],
   "source": [
    "Geo_df_12= Merged_df_12.rename({'geometry': 'geometry12'}, axis=1)"
   ]
  },
  {
   "cell_type": "markdown",
   "metadata": {},
   "source": [
    "### BG-2011"
   ]
  },
  {
   "cell_type": "code",
   "execution_count": null,
   "metadata": {},
   "outputs": [],
   "source": [
    "states= ['01','04','05','06','08','09','10','11','12','13','16','17','18','19','20','21','22','23','24','25','26','27','28','29','30','31','32','33','34','35','36','37','38','39','40','41','42','44','45','46','47','48','49','50','51','53','54','55','56']\n",
    "col_names= [\"AFFGEOID\", \"GEOID\", \"ALAND\", \"geometry\"]\n",
    "Merged_df_11 = pd.DataFrame(columns=col_names)\n",
    "for i in states:\n",
    "    url= 'https://www2.census.gov/geo/tiger/TIGER2011/BG/tl_2011_{}_bg.zip'.format(i)\n",
    "    BG_2011 = gpd.read_file(url)\n",
    "    temp= pd.DataFrame (columns=col_names, data=BG_2011)\n",
    "    temp[\"ALAND\"]= temp[\"ALAND\"].astype(int)\n",
    "    frame = [Merged_df_11, temp]\n",
    "    Merged_df_11 = pd.concat(frame)"
   ]
  },
  {
   "cell_type": "code",
   "execution_count": null,
   "metadata": {},
   "outputs": [],
   "source": [
    "Merged_df_11[\"ALAND\"]= Merged_df_11[\"ALAND\"].astype(int)"
   ]
  },
  {
   "cell_type": "code",
   "execution_count": null,
   "metadata": {},
   "outputs": [],
   "source": [
    "Geo_df_11= Merged_df_11.rename({'geometry': 'geometry11'}, axis=1)"
   ]
  },
  {
   "cell_type": "markdown",
   "metadata": {},
   "source": [
    "## BG-2010"
   ]
  },
  {
   "cell_type": "code",
   "execution_count": null,
   "metadata": {},
   "outputs": [],
   "source": [
    "states= ['01','04','05','06','08','09','10','11','12','13','16','17','18','19','20','21','22','23','24','25','26','27','28','29','30','31','32','33','34','35','36','37','38','39','40','41','42','44','45','46','47','48','49','50','51','53','54','55','56']\n",
    "col_names= [\"AFFGEOID\", \"GEOID\", \"ALAND\", \"geometry\"]\n",
    "Merged_df_10 = pd.DataFrame(columns=col_names)\n",
    "for i in states:\n",
    "    url= 'https://www2.census.gov/geo/tiger/TIGER2010/BG/2010/tl_2010_{}_bg10.zip'.format(i)\n",
    "    BG_2010 = gpd.read_file(url)\n",
    "    temp= pd.DataFrame (columns=col_names, data=BG_2011)\n",
    "    temp[\"ALAND\"]= temp[\"ALAND\"].astype(int)\n",
    "    frame = [Merged_df_10, temp]\n",
    "    Merged_df_10 = pd.concat(frame)"
   ]
  },
  {
   "cell_type": "code",
   "execution_count": null,
   "metadata": {},
   "outputs": [],
   "source": [
    "Merged_df_10[\"ALAND\"]= Merged_df_10[\"ALAND\"].astype(int)"
   ]
  },
  {
   "cell_type": "code",
   "execution_count": null,
   "metadata": {},
   "outputs": [],
   "source": [
    "Geo_df_10= Merged_df_10.rename({'geometry': 'geometry10'}, axis=1)"
   ]
  },
  {
   "cell_type": "code",
   "execution_count": null,
   "metadata": {},
   "outputs": [],
   "source": []
  },
  {
   "cell_type": "code",
   "execution_count": null,
   "metadata": {},
   "outputs": [],
   "source": [
    "df_Pop_Merge= Join19.merge(Join18, on='Name').merge(Join17, on='Name').merge(Join16, on='Name').merge(Join15, on='Name').merge(Join14, on='Name').merge(Join13, on='Name')"
   ]
  },
  {
   "cell_type": "code",
   "execution_count": null,
   "metadata": {},
   "outputs": [],
   "source": [
    "df_Pop_Merge.info()"
   ]
  },
  {
   "cell_type": "code",
   "execution_count": null,
   "metadata": {
    "scrolled": false
   },
   "outputs": [],
   "source": [
    "df_Pop_Merge= df_Pop_Merge.drop(['AFFGEOID_x', 'AFFGEOID_y', 'geometry_x', 'geometry_y'], axis = 1)\n",
    "df_Pop_Merge.info()"
   ]
  },
  {
   "cell_type": "code",
   "execution_count": null,
   "metadata": {},
   "outputs": [],
   "source": [
    "df_geo= df_Pop_Merge.rename({'geometry19': 'geometry'}, axis=1)"
   ]
  },
  {
   "cell_type": "code",
   "execution_count": null,
   "metadata": {},
   "outputs": [],
   "source": [
    "#calculate population change\n",
    "df_geo['%PopChange']=((df_geo['Pop_19']-df_geo['Pop_13'])/df_geo['Pop_13'])*100"
   ]
  },
  {
   "cell_type": "code",
   "execution_count": null,
   "metadata": {
    "scrolled": true
   },
   "outputs": [],
   "source": [
    "df_geo"
   ]
  },
  {
   "cell_type": "code",
   "execution_count": null,
   "metadata": {},
   "outputs": [],
   "source": [
    "df_clean= df_geo.dropna(subset=['geometry', ])\n",
    "df_clean"
   ]
  },
  {
   "cell_type": "markdown",
   "metadata": {},
   "source": [
    "### Visualization"
   ]
  },
  {
   "cell_type": "code",
   "execution_count": null,
   "metadata": {},
   "outputs": [],
   "source": [
    "def rd2(x):\n",
    "        return round (x,2)\n",
    "    \n",
    "minimum, maximum= Join19[\"density19\"].quantile([0.05, 0.95]).apply(rd2)\n",
    "mean = round(Join19[\"density19\"].mean(), 2)\n",
    "\n",
    "\n",
    "print(f\"minimum: {minimum}\", f\"maximum: {maximum}\", f\"Mean: {mean}\", sep=\"\\n\\n\")  "
   ]
  },
  {
   "cell_type": "code",
   "execution_count": null,
   "metadata": {},
   "outputs": [],
   "source": [
    "import branca\n",
    "\n",
    "colormap = branca.colormap.LinearColormap(\n",
    "    colors=[\"#f2f0f7\", \"#cbc9e2\", \"#9e9ac8\", \"#756bb1\", \"#54278f\"],\n",
    "    index=Join19[\"density19\"].quantile([0.2, 0.4, 0.6, 0.8]),\n",
    "    vmin=minimum,\n",
    "    vmax=maximum,\n",
    ")\n",
    "\n",
    "colormap.caption = \"Population Change Percentage\"\n",
    "\n",
    "colormap"
   ]
  },
  {
   "cell_type": "code",
   "execution_count": null,
   "metadata": {},
   "outputs": [],
   "source": [
    "import folium\n",
    "from folium.plugins import Search\n",
    "\n",
    "\n",
    "m = folium.Map(location=[38, -97], zoom_start=4)"
   ]
  },
  {
   "cell_type": "code",
   "execution_count": null,
   "metadata": {
    "scrolled": false
   },
   "outputs": [],
   "source": [
    "df_clean_19= df_map.dropna(subset=['geometry','density19'])\n",
    "df_clean_19.info()"
   ]
  },
  {
   "cell_type": "code",
   "execution_count": null,
   "metadata": {},
   "outputs": [],
   "source": [
    "#df_map= gpd.GeoDataFrame(Join19, geometry='geometry')"
   ]
  },
  {
   "cell_type": "code",
   "execution_count": null,
   "metadata": {
    "scrolled": true
   },
   "outputs": [],
   "source": [
    "#df_clean_19['geometry19'] = gpd.GeoSeries.from_wkt(df_clean_19['geometry19'])\n",
    "#my_geo_df = gpd.GeoDataFrame(df_clean_19, geometry='geometry19')"
   ]
  },
  {
   "cell_type": "code",
   "execution_count": null,
   "metadata": {
    "scrolled": true
   },
   "outputs": [],
   "source": [
    "#from shapely import wkt\n",
    "\n",
    "#df_clean_19['geometry19'] = df_clean_19['geometry19'].apply(wkt.loads)\n",
    "#my_geo_df = gpd.GeoDataFrame(df_clean_19, geometry='geometry19')"
   ]
  },
  {
   "cell_type": "code",
   "execution_count": null,
   "metadata": {
    "scrolled": false
   },
   "outputs": [],
   "source": [
    "print(type(Join19))"
   ]
  },
  {
   "cell_type": "code",
   "execution_count": null,
   "metadata": {},
   "outputs": [],
   "source": [
    "df_map= gpd.GeoDataFrame(Join19, geometry='geometry')"
   ]
  },
  {
   "cell_type": "code",
   "execution_count": null,
   "metadata": {},
   "outputs": [],
   "source": [
    "# cx coordinate based indexing\n",
    "# http://geopandas.org/indexing.html\n",
    "df_clean_19 = df_clean_19.cx[-120:-65, 0:80]\n",
    "\n",
    "num_colors = 40\n",
    "vmin=0\n",
    "vmax=300\n",
    "\n",
    "# https://stackoverflow.com/questions/39215202/matplotlib-geopandas-plot-multiple-layers-control-figsize\n",
    "figsize = (20, 20)\n",
    "fig, ax = plt.subplots(1, 1, figsize=figsize)\n",
    "ax.set_title('Population density [people/sq mile]')\n",
    "df_clean_19.plot(column='density19', cmap='OrRd', ax=ax, k=num_colors, legend=True, vmin=vmin, vmax=vmax, legend_kwds={'label': \"Population Density\", 'orientation': \"horizontal\"})"
   ]
  },
  {
   "cell_type": "code",
   "execution_count": null,
   "metadata": {},
   "outputs": [],
   "source": [
    "def style_function(x):\n",
    "    return {\n",
    "        \"fillColor\": colormap(x[\"properties\"][\"density19\"]),\n",
    "        \"color\": \"black\",\n",
    "        \"weight\": 2,\n",
    "        \"fillOpacity\": 0.5,\n",
    "    }\n",
    "\n",
    "\n",
    "stategeo = folium.GeoJson(\n",
    "    df_clean_19,\n",
    "    name=\"US Block Goups\",\n",
    "    style_function=style_function,\n",
    "    tooltip=folium.GeoJsonTooltip(\n",
    "        fields=[\"Name\", \"density19\"], aliases=[\"Name\", \"Density\"], localize=True\n",
    "    ),\n",
    ").add_to(m)\n",
    "\n",
    "\n",
    "\n",
    "folium.LayerControl().add_to(m)\n",
    "colormap.add_to(m)\n",
    "\n",
    "m"
   ]
  },
  {
   "cell_type": "code",
   "execution_count": null,
   "metadata": {},
   "outputs": [],
   "source": [
    "#basemap (used state cap. for the lat/long)\n",
    "P_Density = folium.Map(location = [40.29794048212508, -100.8402113505973], zoom_start = 7, control_scale = True)\n",
    "\n",
    "#create a choropleth layer of Global Rare species density:\n",
    "folium.Choropleth(\n",
    "    geo_data = df_clean_19,\n",
    "    name = 'US Block Goups',\n",
    "    data = df_clean_19,\n",
    "    columns = ['Name', 'density19'],\n",
    "    key_on = 'feature.id',\n",
    "    fill_color = 'GnBu',\n",
    "    fill_opacity = 0.8,\n",
    "    line_opacity = 0.2,\n",
    "    line_color = 'black',\n",
    "    line_weight = 1,\n",
    "    highlight = True,\n",
    "    overlay = True,\n",
    "    show = True,\n",
    "    smooth_factor = 1.0,\n",
    "    legend_name = '%Population Density Change').add_to(P_Density)\n",
    "\n",
    "\n",
    "\n",
    "\n",
    "\n",
    "\n",
    "\n",
    "# Add hover functionality.\n",
    "style_function = lambda x: {'fillColor': '#ffffff', \n",
    "                            'color':'#000000', \n",
    "                            'fillOpacity': 0.1, \n",
    "                            'weight': 0.1}\n",
    "highlight_function = lambda x: {'fillColor': '#000000', \n",
    "                                'color':'#000000', \n",
    "                                'fillOpacity': 0.50, \n",
    "                                'weight': 0.1}\n",
    "NIL = folium.features.GeoJson(\n",
    "    data = df_clean_19,\n",
    "    style_function=style_function, \n",
    "    control=False,\n",
    "    highlight_function=highlight_function, \n",
    "    tooltip=folium.features.GeoJsonTooltip(\n",
    "        fields=['density19'],\n",
    "        aliases=['density19'],\n",
    "        style=(\"background-color: white; color: #333333; font-family: arial; font-size: 12px; padding: 10px;\") \n",
    "    )\n",
    ")\n",
    "P_Density.add_child(NIL)\n",
    "P_Density.keep_in_front(NIL)\n",
    "\n",
    "\n",
    "#add counties polygons\n",
    "folium.GeoJson(P_Density, style_function = lambda x: {\n",
    "        'color': 'black',\n",
    "        'weight': 1,\n",
    "        'fillOpacity': 0\n",
    "    }, name = 'density19').add_to(P_Density)\n",
    "\n",
    "#enable layer control\n",
    "folium.LayerControl().add_to(P_Density)\n",
    "\n",
    "#show map will this work better?\n",
    "P_Density"
   ]
  },
  {
   "cell_type": "code",
   "execution_count": null,
   "metadata": {},
   "outputs": [],
   "source": []
  }
 ],
 "metadata": {
  "kernelspec": {
   "display_name": "Python 3",
   "language": "python",
   "name": "python3"
  },
  "language_info": {
   "codemirror_mode": {
    "name": "ipython",
    "version": 3
   },
   "file_extension": ".py",
   "mimetype": "text/x-python",
   "name": "python",
   "nbconvert_exporter": "python",
   "pygments_lexer": "ipython3",
   "version": "3.7.6"
  }
 },
 "nbformat": 4,
 "nbformat_minor": 4
}
